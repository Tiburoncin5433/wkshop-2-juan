{
  "nbformat": 4,
  "nbformat_minor": 0,
  "metadata": {
    "colab": {
      "provenance": [],
      "include_colab_link": true
    },
    "kernelspec": {
      "name": "python3",
      "display_name": "Python 3"
    },
    "language_info": {
      "name": "python"
    }
  },
  "cells": [
    {
      "cell_type": "markdown",
      "metadata": {
        "id": "view-in-github",
        "colab_type": "text"
      },
      "source": [
        "<a href=\"https://colab.research.google.com/github/Tiburoncin5433/wkshop-2-juan/blob/main/Workshop_2.ipynb\" target=\"_parent\"><img src=\"https://colab.research.google.com/assets/colab-badge.svg\" alt=\"Open In Colab\"/></a>"
      ]
    },
    {
      "cell_type": "markdown",
      "source": [
        "<h1 align = \"center\">\n",
        "<strong> Universidad de La Salle </strong>\n",
        "</h1>\n",
        "\n",
        "<h1 align = \"center\">\n",
        "<strong> Finance and International Commerce Program </strong>\n",
        "</h1>\n",
        "\n",
        "<h1 align = \"center\">\n",
        "<strong> Data Visualization - Workshop 2 </strong>\n",
        "</h1>\n"
      ],
      "metadata": {
        "id": "BJolccUZSw9G"
      }
    },
    {
      "cell_type": "markdown",
      "source": [
        "# **Instructions**\n",
        "\n",
        "1. Please read carefully the document. Ask all the questions you may have.\n",
        "2. Save this file in your Google Drive.\n",
        "3. DO NOT alter any cell unless it specifically ask you to do it.\n",
        "4. You will have **two hours** (until 11am) maximum to finish and deliver this workshop.\n",
        "5. You can use any help you want: your notes, your codes, internet, classmates.\n",
        "6. Nevertheless, the workshop must be presented individually.\n",
        "7. Once you have finish, save a copy in your GitHub class repository.\n",
        "8. The deliver process is as follows:\n",
        "    \n",
        "    8.1. Via email you will send the link to the GitHub location.\n",
        "    \n",
        "    8.2. In the same mail, just for safety, you will attach a copy of your `.ipynb` file.\n",
        "    \n",
        "    8.3. The email must have the subject: \"W2 DV\".   "
      ],
      "metadata": {
        "id": "pLRc5RAyWsre"
      }
    },
    {
      "cell_type": "markdown",
      "source": [
        "# **To keep in mind**\n",
        "\n",
        "* The excercises propouse are intended to **push** you a little futher in your Pyton skills.\n",
        "* This means that there are going to be exercises above the level seen in class.\n",
        "* The idea is to incentive your creative thinking and solving problem skills.\n",
        "* As always there several ways to do the excersice. But in this case, I ask you to use only the tools we learned.\n",
        "* I ask you to trust me. Give your best effort. Grades do not matter here."
      ],
      "metadata": {
        "id": "4QKdNKujZEbk"
      }
    },
    {
      "cell_type": "markdown",
      "source": [
        "# **Exercise**\n",
        "\n",
        "**Roulette!**\n",
        "\n",
        "Let's simulate a casino game.\n",
        "Specifically, a single-zero (french) roulette.\n",
        "\n",
        "This game consists on rolling a ball over a wheel with number pockets.\n",
        "\n",
        "[Game](https://image.shutterstock.com/image-illustration/casino-roulette-wheel-chips-on-600w-1288790665.jpg)\n",
        "\n",
        "There are several ways to bet on this game, you have to code a few."
      ],
      "metadata": {
        "id": "2kRoSKUmaGl9"
      }
    },
    {
      "cell_type": "code",
      "source": [
        "import numpy as np"
      ],
      "metadata": {
        "id": "8lMuVMe0iwhw"
      },
      "execution_count": null,
      "outputs": []
    },
    {
      "cell_type": "markdown",
      "source": [
        "## Ex 1 - Number Bet\n",
        "\n",
        "You can bet on any number between 0 and 36.\n",
        "You win if the result is the number you bet on.\n",
        "In any other case, you lose.\n",
        "\n",
        "Write the appropiate the code to reflect this process.\n",
        "\n",
        "The result must show the bet made, the result obtained and if you win or lose."
      ],
      "metadata": {
        "id": "PYIRNu3imJ_n"
      }
    },
    {
      "cell_type": "code",
      "execution_count": null,
      "metadata": {
        "id": "9TaC9734lQMI"
      },
      "outputs": [],
      "source": [
        "# Answ. Ex 1\n",
        "# (write your code below)\n"
      ]
    },
    {
      "cell_type": "code",
      "source": [
        "import random\n",
        "\n",
        "def play_roulette():\n",
        "  \"\"\"Simulates a simple game of roulette.\"\"\"\n",
        "\n",
        "  # Generate a random number between 0 and 36\n",
        "  roulette_result = random.randint(0, 36)\n",
        "\n",
        "  # Ask the user for their bet\n",
        "  bet = int(input(\"Enter the number you want to bet on (between 0 and 36): \"))\n",
        "\n",
        "  # Compare the bet with the roulette result\n",
        "  if bet == roulette_result:\n",
        "    print(f\"Congratulations! You bet on {bet} and the result was {roulette_result}. You win!\")\n",
        "  else:\n",
        "    print(f\"Sorry, you bet on {bet} and the result was {roulette_result}. You lose.\")\n",
        "\n",
        "# Call the function to play the game\n",
        "play_roulette()"
      ],
      "metadata": {
        "colab": {
          "base_uri": "https://localhost:8080/"
        },
        "id": "P2BGYpQSw_el",
        "outputId": "f18f82ae-ea43-4a2d-e48a-661f626f3aaf"
      },
      "execution_count": 2,
      "outputs": [
        {
          "output_type": "stream",
          "name": "stdout",
          "text": [
            "Enter the number you want to bet on (between 0 and 36): 14\n",
            "Sorry, you bet on 14 and the result was 0. You lose.\n"
          ]
        }
      ]
    },
    {
      "cell_type": "markdown",
      "source": [
        "## Ex 2 - Color Bet\n",
        "\n",
        "Each color has an associated color. Zero is neutral.\n",
        "\n",
        "And the rest of the numbers vary between black and red (see the previous image).\n",
        "\n",
        "Write the appropiate code to simulate a random round of Roulette using only the color bet (black or red).\n",
        "\n",
        "The result must show the bet made, the result obtained and if you win or lose.\n",
        "\n",
        "*Tip: first define when you lose and when you win.*"
      ],
      "metadata": {
        "id": "LAdWe8iEaL7B"
      }
    },
    {
      "cell_type": "code",
      "source": [
        "import random\n",
        "\n",
        "def play_roulette_color():\n",
        "  \"\"\"Simulates a round of roulette focusing on color bets.\"\"\"\n",
        "\n",
        "  # Define the color associations for each number\n",
        "  colors = {\n",
        "      0: \"green\",\n",
        "      1: \"red\", 2: \"black\", 3: \"red\", 4: \"black\", 5: \"red\",\n",
        "      6: \"black\", 7: \"red\", 8: \"black\", 9: \"red\", 10: \"black\",\n",
        "      11: \"black\", 12: \"red\", 13: \"black\", 14: \"red\", 15: \"black\",\n",
        "      16: \"red\", 17: \"black\", 18: \"red\", 19: \"red\", 20: \"black\",\n",
        "      21: \"red\", 22: \"black\", 23: \"red\", 24: \"black\", 25: \"red\",\n",
        "      26: \"black\", 27: \"red\", 28: \"black\", 29: \"black\", 30: \"red\",\n",
        "      31: \"black\", 32: \"red\", 33: \"black\", 34: \"red\", 35: \"black\",\n",
        "      36: \"red\"}\n",
        "\n",
        "  # Generate a random number between 0 and 36\n",
        "  roulette_result = random.randint(0, 36)\n",
        "\n",
        "  # Get the user's bet\n",
        "  bet = input(\"Enter your bet: red or black: \").lower()\n",
        "\n",
        "  # Determine the outcome based on the bet and roulette result\n",
        "  if bet == \"black\" and colors[roulette_result] == \"black\":\n",
        "    result = \"win\"\n",
        "  elif bet == \"red\" and colors[roulette_result] == \"red\":\n",
        "    result = \"win\"\n",
        "  else:\n",
        "    result = \"lose\"\n",
        "\n",
        "  # Print the result\n",
        "  print(f\"You bet on {bet}. The result was {roulette_result}. You {result}!\")\n",
        "\n",
        "# Call the function to play a round\n",
        "play_roulette_color()"
      ],
      "metadata": {
        "colab": {
          "base_uri": "https://localhost:8080/"
        },
        "id": "iOI99qPi1UiA",
        "outputId": "3f38eaea-a9b7-47a6-e326-2a00054b3b09"
      },
      "execution_count": 3,
      "outputs": [
        {
          "output_type": "stream",
          "name": "stdout",
          "text": [
            "Enter your bet: red or black: black\n",
            "You bet on black. The result was 9. You lose!\n"
          ]
        }
      ]
    },
    {
      "cell_type": "code",
      "execution_count": null,
      "metadata": {
        "id": "rw792kISSt3n"
      },
      "outputs": [],
      "source": [
        "# Answ. Ex 2\n",
        "# (write your code below)\n"
      ]
    },
    {
      "cell_type": "markdown",
      "source": [
        "## Ex 3 - Dozens Bet\n",
        "\n",
        "Given the 3 groups:\n",
        "\n",
        "A -> numbers between 1 and 12.\n",
        "B -> numbers between 13 and 24.\n",
        "C -> numbers between 25 and 36.\n",
        "\n",
        "Write the appropiate code to print the result of betting exclusively with dozens.\n",
        "\n",
        "The result must show the bet made, the result obtained and if you win or lose.\n",
        "\n",
        "*Tip: Note that zero is not in the groups but it is a possible result.*"
      ],
      "metadata": {
        "id": "YFsGiwcNfgzP"
      }
    },
    {
      "cell_type": "code",
      "source": [
        "import random\n",
        "\n",
        "def play_roulette_dozens():\n",
        "  \"\"\"Simulates a round of roulette focusing on dozen bets.\"\"\"\n",
        "\n",
        "  # Define the dozen groups\n",
        "  dozens = {\n",
        "      \"first\": range(1, 13),\n",
        "      \"second\": range(13, 25),\n",
        "      \"third\": range(25, 37)\n",
        "  }\n",
        "\n",
        "  # Generate a random number between 0 and 36\n",
        "  roulette_result = random.randint(0, 36)\n",
        "\n",
        "  # Get the user's bet\n",
        "  bet = input(\"Enter your bet: first, second or third dozen: \").lower()\n",
        "\n",
        "  # Determine the outcome based on the bet and roulette result\n",
        "  if bet == \"first\" and roulette_result in dozens[\"first\"]:\n",
        "    result = \"win\"\n",
        "  elif bet == \"second\" and roulette_result in dozens[\"second\"]:\n",
        "    result = \"win\"\n",
        "  elif bet == \"third\" and roulette_result in dozens[\"third\"]:\n",
        "    result = \"win\"\n",
        "  else:\n",
        "    result = \"lose\"\n",
        "\n",
        "  # Print the result\n",
        "  print(f\"You bet on the {bet} dozen. The result was {roulette_result}. You {result}!\")\n",
        "\n",
        "# Call the function to play a round\n",
        "play_roulette_dozens()"
      ],
      "metadata": {
        "colab": {
          "base_uri": "https://localhost:8080/"
        },
        "id": "DRZ38p4D3B4S",
        "outputId": "678d5fda-58bb-4ad0-f1ca-27b9eb25bf09"
      },
      "execution_count": 4,
      "outputs": [
        {
          "output_type": "stream",
          "name": "stdout",
          "text": [
            "Enter your bet: first, second or third dozen: firts\n",
            "You bet on the firts dozen. The result was 31. You lose!\n"
          ]
        }
      ]
    },
    {
      "cell_type": "code",
      "source": [
        "# Answ. Ex 3\n",
        "# (write your code below)\n"
      ],
      "metadata": {
        "id": "Dwdsh30Ti3vl"
      },
      "execution_count": null,
      "outputs": []
    },
    {
      "cell_type": "markdown",
      "source": [
        "## Ex 4 - Putting everything together\n",
        "\n",
        "Write the code that simulate a random game of Roulette where the person can bet on: Number, Color, Dozen or any combination she or he wants.\n",
        "\n",
        "The result must show the bet made, the result obtained and if you win or lose."
      ],
      "metadata": {
        "id": "RSyiV1UPlVcJ"
      }
    },
    {
      "cell_type": "code",
      "source": [
        "# Answ. Ex 4\n",
        "# (write your code below)"
      ],
      "metadata": {
        "id": "FQU_vc_5sse0"
      },
      "execution_count": null,
      "outputs": []
    },
    {
      "cell_type": "code",
      "source": [
        "import random\n",
        "\n",
        "def play_roulette():\n",
        "  \"\"\"Simulates a complete roulette game.\n",
        "\n",
        "  Allows the player to bet on a number, color, dozen, or any combination.\n",
        "\n",
        "  Returns:\n",
        "    A tuple with the bet, the result, and if the player won or lost.\n",
        "  \"\"\"\n",
        "\n",
        "  # Numbers, colors, and dozens on the roulette wheel\n",
        "  numbers = list(range(1, 37))\n",
        "  colors = {\n",
        "      0: \"green\",\n",
        "      1: \"red\", 2: \"black\", 3: \"red\", 4: \"black\", 5: \"red\",\n",
        "      6: \"black\", 7: \"red\", 8: \"black\", 9: \"red\", 10: \"black\",\n",
        "      11: \"black\", 12: \"red\", 13: \"black\", 14: \"red\", 15: \"black\",\n",
        "      16: \"red\", 17: \"black\", 18: \"red\", 19: \"red\", 20: \"black\",\n",
        "      21: \"red\", 22: \"black\", 23: \"red\", 24: \"black\", 25: \"red\",\n",
        "      26: \"black\", 27: \"red\", 28: \"black\", 29: \"black\", 30: \"red\",\n",
        "      31: \"black\", 32: \"red\", 33: \"black\", 34: \"red\", 35: \"black\",\n",
        "      36: \"red\"}\n",
        "\n",
        "  dozens = {\n",
        "      \"first\": range(1, 13),\n",
        "      \"second\": range(13, 25),\n",
        "      \"third\": range(25, 37)\n",
        "    }\n",
        "\n",
        "  # Ask the player for their bet\n",
        "  bet = input(\"Enter your bet (number, color, dozen, or combination): \").lower()\n",
        "\n",
        "  # Validate the bet\n",
        "  # ... (see below)\n",
        "\n",
        "  # Generate a random number between 0 and 36\n",
        "  result = random.randint(0, 36)\n",
        "\n",
        "  # Determine the color and dozen of the result\n",
        "  # Fix: Access the color directly using the result as the key\n",
        "  color_result = colors.get(result)\n",
        "  dozen_result = None\n",
        "  for dozen, numbers in dozens.items():\n",
        "      if result in numbers:\n",
        "          dozen_result = dozen\n",
        "          break\n",
        "\n",
        "  # Compare the bet with the result and determine if the player won or lost\n",
        "  # This is a placeholder, replace with your win/loss logic\n",
        "  # For example:\n",
        "  won = False  # Initialize won to False\n",
        "  if bet == color_result or bet == dozen_result or bet == str(result): # Assuming the bet format matches\n",
        "      won = True\n",
        "\n",
        "  return bet, result, color_result, dozen_result, won\n",
        "\n",
        "# Call the function and display the result\n",
        "bet, result, color_result, dozen_result, won = play_roulette()\n",
        "print(f\"You bet on {bet}.\")\n",
        "print(f\"The result was {result} ({color_result}, {dozen_result}).\")\n",
        "print(\"You win!\" if won else \"You lose!\")"
      ],
      "metadata": {
        "colab": {
          "base_uri": "https://localhost:8080/"
        },
        "id": "MY3_zGtMAk1V",
        "outputId": "d23320be-cd34-431b-e89f-703b5bcea40d"
      },
      "execution_count": 5,
      "outputs": [
        {
          "output_type": "stream",
          "name": "stdout",
          "text": [
            "Enter your bet (number, color, dozen, or combination): 15,red\n",
            "You bet on 15,red.\n",
            "The result was 4 (black, first).\n",
            "You lose!\n"
          ]
        }
      ]
    }
  ]
}